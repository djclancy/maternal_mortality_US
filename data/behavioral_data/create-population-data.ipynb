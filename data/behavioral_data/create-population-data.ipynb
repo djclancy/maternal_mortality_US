{
 "cells": [
  {
   "cell_type": "markdown",
   "metadata": {},
   "source": [
    "# Create Population Dataset\n",
    "\n",
    "The file will take data from the ACS survey from 2010 - 2023 and extract the female population per state for each year. The results are stored in a dictionary of dataframes for each state."
   ]
  },
  {
   "cell_type": "code",
   "execution_count": 124,
   "metadata": {},
   "outputs": [],
   "source": [
    "import pandas as pd\n",
    "import numpy as np\n",
    "import matplotlib.pyplot as plot\n",
    "import seaborn as sns\n",
    "import re\n",
    "import pickle"
   ]
  },
  {
   "cell_type": "markdown",
   "metadata": {},
   "source": [
    "### Load Existing Datasets"
   ]
  },
  {
   "cell_type": "code",
   "execution_count": 130,
   "metadata": {},
   "outputs": [],
   "source": [
    "population_dfs = { 2010: pd.read_csv(\"data/population/ACSDP1Y2010DP05.csv\"),\n",
    "                   2011: pd.read_csv(\"data/population/ACSDP1Y2011DP05.csv\"),\n",
    "                   2012: pd.read_csv(\"data/population/ACSDP1Y2012DP05.csv\"),\n",
    "                   2013: pd.read_csv(\"data/population/ACSDP1Y2012DP05.csv\"),\n",
    "                   2014: pd.read_csv(\"data/population/ACSDP1Y2014DP05.csv\"),\n",
    "                   2015: pd.read_csv(\"data/population/ACSDP1Y2015DP05.csv\"),\n",
    "                   2016: pd.read_csv(\"data/population/ACSDP1Y2016DP05.csv\"),\n",
    "                   2017: pd.read_csv(\"data/population/ACSDP1Y2017DP05.csv\"),\n",
    "                   2018: pd.read_csv(\"data/population/ACSDP1Y2018DP05.csv\"),\n",
    "                   2019: pd.read_csv(\"data/population/ACSDP1Y2019DP05.csv\"),\n",
    "                   2020: pd.read_csv(\"data/population/ACSDP5Y2020DP05.csv\"),\n",
    "                   2021: pd.read_csv(\"data/population/ACSDP1Y2021DP05.csv\"),\n",
    "                   2022: pd.read_csv(\"data/population/ACSDP1Y2022DP05.csv\"),\n",
    "                   2023: pd.read_csv(\"data/population/ACSDP1Y2023DP05.csv\")}"
   ]
  },
  {
   "cell_type": "markdown",
   "metadata": {},
   "source": [
    "### File-Specific Data Structures"
   ]
  },
  {
   "cell_type": "code",
   "execution_count": 125,
   "metadata": {},
   "outputs": [],
   "source": [
    "years = [2010, 2011, 2012, 2013, 2014, 2015, 2016, 2017, 2018, 2019, 2020, 2021, 2022, 2023]\n",
    "states = ['Alaska', 'Alabama', 'Arkansas', 'Arizona', 'California', 'Colorado', 'Connecticut', 'Delaware',  'Florida',\n",
    "           'Georgia', 'Hawaii', 'Iowa', 'Idaho', 'Illinois', 'Indiana', 'Kansas', 'Kentucky', 'Louisiana', 'Massachusetts',\n",
    "           'Maryland', 'Maine', 'Michigan', 'Minnesota', 'Missouri', 'Mississippi', 'Montana', 'North Carolina', 'North Dakota',\n",
    "           'Nebraska', 'New Hampshire', 'New Jersey', 'New Mexico', 'Nevada', 'New York', 'Ohio', 'Oklahoma', 'Oregon', 'Pennsylvania',\n",
    "           'Rhode Island', 'South Carolina', 'South Dakota', 'Tennessee', 'Texas', 'Utah', 'Virginia', 'Vermont', 'Washington',\n",
    "           'Wisconsin', 'West Virginia', 'Wyoming']"
   ]
  },
  {
   "cell_type": "markdown",
   "metadata": {},
   "source": [
    "### Initialize Target Data Structures"
   ]
  },
  {
   "cell_type": "code",
   "execution_count": 127,
   "metadata": {},
   "outputs": [],
   "source": [
    "population_by_state = {}\n",
    "\n",
    "for state in states:\n",
    "    population_by_state[state] = pd.DataFrame({'Year': years, \n",
    "                                              'Female Population': [None] * len(years)})"
   ]
  },
  {
   "cell_type": "markdown",
   "metadata": {},
   "source": [
    "### Fill in Data"
   ]
  },
  {
   "cell_type": "code",
   "execution_count": 128,
   "metadata": {},
   "outputs": [],
   "source": [
    "for state in states:\n",
    "    for year in years:\n",
    "        # get the female population for this state; note: overall female population is stored in the 3rd row\n",
    "        state_str = state + \"!!Estimate\"\n",
    "        val = population_dfs[year].iloc[3][state_str]\n",
    "\n",
    "        # the population data was stored as a string, so remove the comma and convert into an integer\n",
    "        val = int(re.sub(r',', '', val))\n",
    "\n",
    "        # assign the female population in the population_by_state dictionary/dataframe\n",
    "        population_by_state[state].loc[(population_by_state[state]['Year'] == year),'Female Population'] = val"
   ]
  },
  {
   "cell_type": "markdown",
   "metadata": {},
   "source": [
    "### Export"
   ]
  },
  {
   "cell_type": "code",
   "execution_count": 129,
   "metadata": {},
   "outputs": [],
   "source": [
    "# store the dataframes using pickle\n",
    "\n",
    "with open('data/population_by_state.pkl', 'wb') as file:\n",
    "    pickle.dump(population_by_state, file)\n",
    "\n",
    "with open('data/population_dfs.pkl', 'wb') as file:\n",
    "    pickle.dump(population_dfs, file)"
   ]
  }
 ],
 "metadata": {
  "kernelspec": {
   "display_name": "erdos_spring_2025",
   "language": "python",
   "name": "python3"
  },
  "language_info": {
   "codemirror_mode": {
    "name": "ipython",
    "version": 3
   },
   "file_extension": ".py",
   "mimetype": "text/x-python",
   "name": "python",
   "nbconvert_exporter": "python",
   "pygments_lexer": "ipython3",
   "version": "3.12.8"
  }
 },
 "nbformat": 4,
 "nbformat_minor": 2
}
